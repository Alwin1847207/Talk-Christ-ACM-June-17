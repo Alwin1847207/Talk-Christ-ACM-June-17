{
  "nbformat": 4,
  "nbformat_minor": 0,
  "metadata": {
    "colab": {
      "name": "Twitter.ipynb",
      "provenance": [],
      "collapsed_sections": []
    },
    "kernelspec": {
      "name": "python3",
      "display_name": "Python 3"
    }
  },
  "cells": [
    {
      "cell_type": "markdown",
      "metadata": {
        "id": "Cdb6CRuM7EGm",
        "colab_type": "text"
      },
      "source": [
        "**Install Basic Packages**"
      ]
    },
    {
      "cell_type": "code",
      "metadata": {
        "id": "xePvzH7ylrCn",
        "colab_type": "code",
        "colab": {}
      },
      "source": [
        "!pip install tweepy\n",
        "!pip install textblob"
      ],
      "execution_count": null,
      "outputs": []
    },
    {
      "cell_type": "markdown",
      "metadata": {
        "id": "REf_XUTG7LW3",
        "colab_type": "text"
      },
      "source": [
        "# Import packages & Twitter API Credentials"
      ]
    },
    {
      "cell_type": "code",
      "metadata": {
        "id": "oRj3tX2fltnY",
        "colab_type": "code",
        "colab": {}
      },
      "source": [
        "import tweepy\n",
        "from textblob import TextBlob\n",
        "consumer_key = \"Enter your key\"\n",
        "consumer_secret = \"Enter your key\"\n",
        "access_token = \"Enter your key\"\n",
        "access_token_secret = \"Enter your key\""
      ],
      "execution_count": null,
      "outputs": []
    },
    {
      "cell_type": "markdown",
      "metadata": {
        "id": "9QWkh4X97TAg",
        "colab_type": "text"
      },
      "source": [
        "## Instantiate the tweepy class and pass API credentails"
      ]
    },
    {
      "cell_type": "code",
      "metadata": {
        "id": "sR7d3HwEl3Xo",
        "colab_type": "code",
        "colab": {}
      },
      "source": [
        "# Creating the authentication object\n",
        "auth = tweepy.OAuthHandler(consumer_key, consumer_secret)\n",
        "# Setting your access token and secret\n",
        "auth.set_access_token(access_token, access_token_secret)\n",
        "# Creating the API object while passing in auth information\n",
        "api = tweepy.API(auth) "
      ],
      "execution_count": null,
      "outputs": []
    },
    {
      "cell_type": "markdown",
      "metadata": {
        "id": "d8XovU5I7cz1",
        "colab_type": "text"
      },
      "source": [
        "## Pull all twitter from current timeline"
      ]
    },
    {
      "cell_type": "code",
      "metadata": {
        "id": "fog8QmyymNJ1",
        "colab_type": "code",
        "colab": {
          "base_uri": "https://localhost:8080/",
          "height": 646
        },
        "outputId": "a8fd34ec-e6cc-425a-e741-9c20440f0290"
      },
      "source": [
        "# Using the API object to get tweets from your timeline, and storing it in a variable called public_tweets\n",
        "public_tweets = api.home_timeline()\n",
        "# foreach through all tweets pulled\n",
        "for tweet in public_tweets:\n",
        "   # printing the text stored inside the tweet object\n",
        "   print(tweet.text)"
      ],
      "execution_count": null,
      "outputs": [
        {
          "output_type": "stream",
          "text": [
            "Is #Google's Go All Set to take over #Python for #Analytics - by @nexsoftsys https://t.co/Ri9y9YUzVm #Tech\n",
            "Haryana to introduce bill against 'forced conversions'\n",
            "\n",
            "https://t.co/HfUuQrFtzv https://t.co/nDApMj8kI1\n",
            "RT @tnwevents: #Checkout2020 is happening tomorrow! Have you secured your ticket? Be sure to join us to navigate the crisis with e-commerce…\n",
            ".@Mayawati terms killing of 20 troops in #Ladakh as 'extremely sad, disturbing' \n",
            "\n",
            "READ: https://t.co/TXH1Rz4Rdh… https://t.co/J0iqbAaRBK\n",
            "A case has been filed against #SalmanKhan, #KaranJohar, Ekta Kapoor and others in connection with… https://t.co/5Z7QMVTYna\n",
            "Want to know how you can automate financial controls, plug gaps in cash flows, provide data governance &amp; preserve t… https://t.co/8XsAjpLmnK\n",
            "#IndiaChinaFaceOff \n",
            "\n",
            "Names of the 20 Indian Army personnel who lost their lives in the \"violent face-off\" with Chin… https://t.co/QXf5auJwdO\n",
            "AIFF recommends IM Vijayan for Padma Shri \n",
            "\n",
            "READ: https://t.co/bqF18WIopI\n",
            "\n",
            "#IMvijayan #AIFF #PadmaShri #football… https://t.co/Ck2bHPFRzn\n",
            "#JustIn \n",
            "\n",
            "Major General level talks being held between India and China in the #GalwanValley to further defuse the s… https://t.co/3jhAVvnry5\n",
            "India-China  face-off: PM @narendramodi convenes all-party meeting on Friday \n",
            "\n",
            "READ: https://t.co/eJdYxvayxv… https://t.co/u3Q89MNG3m\n",
            "This tiny electric plane from a company you’ve never heard of is actually a BIG deal for aviation https://t.co/WkA6cUcKWp\n",
            "RT @timhwang: been thinking a lot recently about the argument that authoritarian orgs / regimes are best suited to use + benefit from machi…\n",
            "This robot is breaking the rules and drawing on walls https://t.co/FIXOEuCLmK\n",
            "Congress leader Siddaramaiah slams PM Modi, Rajnath Singh for 'silence' on border dispute with China \n",
            "\n",
            "READ:… https://t.co/aRIRvX2tdk\n",
            "Navigating COVID-19: A series of 5 'How To' workshops offering practical advice for startups from industry experts,… https://t.co/wyRB64owwE\n",
            "China's gay dating app Blued eyes Nasdaq IPO to expand overseas https://t.co/GYRModeBLA by @ritacyliao\n",
            "Rajnath Singh holds meeting with CDS Bipin Rawat, 3 service chiefs \n",
            "\n",
            "READ: https://t.co/yjwO25Ps15 https://t.co/gOhbq2YjnN\n",
            "Looking for a new pet? Now you can buy Boston Dynamics' Spot the Robot Dog. https://t.co/87TtCgQeHq\n",
            "Prime Minister @narendramodi will address the nation on 21st June of this month on the occasion of International Da… https://t.co/cMTvHDN2HH\n"
          ],
          "name": "stdout"
        }
      ]
    },
    {
      "cell_type": "markdown",
      "metadata": {
        "id": "PcIQmcdZ7l1J",
        "colab_type": "text"
      },
      "source": [
        "### Let's pull all tweets related to #Iphone7"
      ]
    },
    {
      "cell_type": "code",
      "metadata": {
        "id": "CedLq6HmmP3d",
        "colab_type": "code",
        "colab": {
          "base_uri": "https://localhost:8080/",
          "height": 700
        },
        "outputId": "2395c698-4dae-4841-b187-0274a3ce8ed0"
      },
      "source": [
        "# The search term you want to find\n",
        "query = \"#Covid19\"\n",
        "# Language code (follows ISO 639-1 standards)\n",
        "language = \"en\"\n",
        "\n",
        "# Calling the user_timeline function with our parameters\n",
        "results = api.search(q=query, lang=language)\n",
        "\n",
        "# foreach through all tweets pulled\n",
        "for tweet in results:\n",
        "   # printing the text stored inside the tweet object\n",
        "   print(tweet.user.screen_name,\"Tweeted:\",tweet.text)"
      ],
      "execution_count": null,
      "outputs": [
        {
          "output_type": "stream",
          "text": [
            "juskev68 Tweeted: RT @SylvesterTurner: Today, I joined 8 of our big city Texas Mayors in writing a bipartisan letter to @GregAbbott_TX for the authority to s…\n",
            "PompidouGroup Tweeted: With this training course produced by #PublicHealthEngland, frontline workers can acquire skills to better provide… https://t.co/XdP39nZeH8\n",
            "bernardshawlive Tweeted: RT @joannekarma: @goodgrieftrust Why on earth would you appoint a health minister from a party that has so signally underfunded health and…\n",
            "lavenderkiss Tweeted: 28 consecutive days without new cases. \n",
            "\n",
            "Total cases: 156\n",
            "Active case: 0\n",
            "Recovered: 153\n",
            "Death: 3\n",
            "\n",
            "Positive: 156\n",
            "Neg… https://t.co/4ppPQUXYnX\n",
            "jao860 Tweeted: RT @DrDenaGrayson: ⚠️#Florida set another record with 2,783 new #COVID19 cases today, the largest single-day increase since the pandemic be…\n",
            "fobmadurai Tweeted: RT @PIB_India: #COVID bulletin\n",
            "\n",
            "📈 Recovery rate: 52.47% || Testing capacity: 3 lakh tests/day\n",
            "\n",
            "@MoHFW_INDIA issues guide to combat stigma a…\n",
            "Films_Division Tweeted: RT @COVIDNewsByMIB: #IndiaFightsCorona: \n",
            "\n",
            "📍Three simple steps to prevent #COVID19 \n",
            "\n",
            "▶️Ensure hand hygiene \n",
            "▶️Wear a face cover/mask\n",
            "▶️Maint…\n",
            "sampath533 Tweeted: RT @V6_Suresh: Big Spike : 275 new cases in #AndhraPradesh\n",
            "#COVID19 #CoronaVirus \n",
            "https://t.co/d9DqO87eQC\n",
            "badboy231586 Tweeted: RT @ashoswai: In India, for six days in a row, daily new #COVID19 cases are 10,000+. Today, single day #COVID19 death in India crossed 2000…\n",
            "majhbhai Tweeted: RT @ANI: Delhi High Court dismisses a PIL seeking an order prohibiting the eviction of tenants on grounds of non-payment of rent till #COVI…\n",
            "mynamerahul007 Tweeted: RT @milinddeora: Yesterday’s mental health experts — who were #COVID19 experts the day before — are defence &amp; strategic affairs experts tod…\n",
            "Livingstone_S Tweeted: RT @botherder: 📢 NEW: In the last month @amnesty Security Lab analyzed many #COVID19 contact-tracing apps. We found apps from Kuwait, Bahra…\n",
            "Bill62381580 Tweeted: RT @caracal: Looking at the complete &amp; utter shitshow that is the UK after ten years of @Conservatives.\n",
            "\n",
            "Austerity.  #Brexit.  Racism.  Wor…\n",
            "PandeyAkash Tweeted: RT @milinddeora: Yesterday’s mental health experts — who were #COVID19 experts the day before — are defence &amp; strategic affairs experts tod…\n",
            "deweyjaci76 Tweeted: RT @GavinNewsom: Going to REPEAT, REPEAT, REPEAT: #COVID19 is still here.\n",
            "\n",
            "Wear a face covering. Wash your hands. Practice physical distanc…\n"
          ],
          "name": "stdout"
        }
      ]
    },
    {
      "cell_type": "markdown",
      "metadata": {
        "id": "tRitko2S7uJH",
        "colab_type": "text"
      },
      "source": [
        "## Clean all URL from each tweets"
      ]
    },
    {
      "cell_type": "code",
      "metadata": {
        "id": "T411glRYmqx_",
        "colab_type": "code",
        "colab": {
          "base_uri": "https://localhost:8080/",
          "height": 680
        },
        "outputId": "754d32c7-c751-42ae-f258-4093013b4ffb"
      },
      "source": [
        "def remove_urls(text):\n",
        "  return re.sub(r'\\w+:\\/{2}[\\d\\w-]+(\\.[\\d\\w-]+)*(?:(?:\\/[^\\s/]*))*', '',\\\n",
        "                 text, flags=re.MULTILINE)\n",
        "\n",
        "import re\n",
        "# foreach through all tweets pulled\n",
        "for tweet in results:\n",
        "   # printing the text stored inside the tweet object\n",
        "   text = remove_urls(tweet.text)\n",
        "   print(text)\n"
      ],
      "execution_count": null,
      "outputs": [
        {
          "output_type": "stream",
          "text": [
            "RT @SylvesterTurner: Today, I joined 8 of our big city Texas Mayors in writing a bipartisan letter to @GregAbbott_TX for the authority to s…\n",
            "With this training course produced by #PublicHealthEngland, frontline workers can acquire skills to better provide… \n",
            "RT @joannekarma: @goodgrieftrust Why on earth would you appoint a health minister from a party that has so signally underfunded health and…\n",
            "28 consecutive days without new cases. \n",
            "\n",
            "Total cases: 156\n",
            "Active case: 0\n",
            "Recovered: 153\n",
            "Death: 3\n",
            "\n",
            "Positive: 156\n",
            "Neg… \n",
            "RT @DrDenaGrayson: ⚠️#Florida set another record with 2,783 new #COVID19 cases today, the largest single-day increase since the pandemic be…\n",
            "RT @PIB_India: #COVID bulletin\n",
            "\n",
            "📈 Recovery rate: 52.47% || Testing capacity: 3 lakh tests/day\n",
            "\n",
            "@MoHFW_INDIA issues guide to combat stigma a…\n",
            "RT @COVIDNewsByMIB: #IndiaFightsCorona: \n",
            "\n",
            "📍Three simple steps to prevent #COVID19 \n",
            "\n",
            "▶️Ensure hand hygiene \n",
            "▶️Wear a face cover/mask\n",
            "▶️Maint…\n",
            "RT @V6_Suresh: Big Spike : 275 new cases in #AndhraPradesh\n",
            "#COVID19 #CoronaVirus \n",
            "\n",
            "RT @ashoswai: In India, for six days in a row, daily new #COVID19 cases are 10,000+. Today, single day #COVID19 death in India crossed 2000…\n",
            "RT @ANI: Delhi High Court dismisses a PIL seeking an order prohibiting the eviction of tenants on grounds of non-payment of rent till #COVI…\n",
            "RT @milinddeora: Yesterday’s mental health experts — who were #COVID19 experts the day before — are defence &amp; strategic affairs experts tod…\n",
            "RT @botherder: 📢 NEW: In the last month @amnesty Security Lab analyzed many #COVID19 contact-tracing apps. We found apps from Kuwait, Bahra…\n",
            "RT @caracal: Looking at the complete &amp; utter shitshow that is the UK after ten years of @Conservatives.\n",
            "\n",
            "Austerity.  #Brexit.  Racism.  Wor…\n",
            "RT @milinddeora: Yesterday’s mental health experts — who were #COVID19 experts the day before — are defence &amp; strategic affairs experts tod…\n",
            "RT @GavinNewsom: Going to REPEAT, REPEAT, REPEAT: #COVID19 is still here.\n",
            "\n",
            "Wear a face covering. Wash your hands. Practice physical distanc…\n"
          ],
          "name": "stdout"
        }
      ]
    },
    {
      "cell_type": "markdown",
      "metadata": {
        "id": "b3ZAHW-V7zVM",
        "colab_type": "text"
      },
      "source": [
        "### Create sentiment calculation function"
      ]
    },
    {
      "cell_type": "code",
      "metadata": {
        "id": "afJxNzz-nDkh",
        "colab_type": "code",
        "colab": {}
      },
      "source": [
        "# Score value between \n",
        "def sentiment(t):\n",
        "    score = TextBlob(str(t))\n",
        "    if score.sentiment.polarity == 0:\n",
        "      return \"Neutral\"\n",
        "    if score.sentiment.polarity > 0:\n",
        "      return \"POSTIVE\"\n",
        "    if score.sentiment.polarity < 0:\n",
        "      return \"NEGATIVE\""
      ],
      "execution_count": null,
      "outputs": []
    },
    {
      "cell_type": "markdown",
      "metadata": {
        "id": "6TZAzS0q75K9",
        "colab_type": "text"
      },
      "source": [
        "### Now calculate the sentiment for each tweets"
      ]
    },
    {
      "cell_type": "code",
      "metadata": {
        "id": "DMiI91JynlAh",
        "colab_type": "code",
        "colab": {
          "base_uri": "https://localhost:8080/",
          "height": 680
        },
        "outputId": "e4e0c0f9-dee1-4d85-ac7c-b6497ff58bba"
      },
      "source": [
        "# foreach through all tweets pulled\n",
        "for tweet in results:\n",
        "   # printing the text stored inside the tweet object\n",
        "   text = re.sub(r'\\w+:\\/{2}[\\d\\w-]+(\\.[\\d\\w-]+)*(?:(?:\\/[^\\s/]*))*', '',\\\n",
        "                 tweet.text, flags=re.MULTILINE)\n",
        "   print(sentiment(text), '||', text)"
      ],
      "execution_count": null,
      "outputs": [
        {
          "output_type": "stream",
          "text": [
            "Neutral || RT @SylvesterTurner: Today, I joined 8 of our big city Texas Mayors in writing a bipartisan letter to @GregAbbott_TX for the authority to s…\n",
            "POSTIVE || With this training course produced by #PublicHealthEngland, frontline workers can acquire skills to better provide… \n",
            "Neutral || RT @joannekarma: @goodgrieftrust Why on earth would you appoint a health minister from a party that has so signally underfunded health and…\n",
            "POSTIVE || 28 consecutive days without new cases. \n",
            "\n",
            "Total cases: 156\n",
            "Active case: 0\n",
            "Recovered: 153\n",
            "Death: 3\n",
            "\n",
            "Positive: 156\n",
            "Neg… \n",
            "POSTIVE || RT @DrDenaGrayson: ⚠️#Florida set another record with 2,783 new #COVID19 cases today, the largest single-day increase since the pandemic be…\n",
            "POSTIVE || RT @PIB_India: #COVID bulletin\n",
            "\n",
            "📈 Recovery rate: 52.47% || Testing capacity: 3 lakh tests/day\n",
            "\n",
            "@MoHFW_INDIA issues guide to combat stigma a…\n",
            "Neutral || RT @COVIDNewsByMIB: #IndiaFightsCorona: \n",
            "\n",
            "📍Three simple steps to prevent #COVID19 \n",
            "\n",
            "▶️Ensure hand hygiene \n",
            "▶️Wear a face cover/mask\n",
            "▶️Maint…\n",
            "POSTIVE || RT @V6_Suresh: Big Spike : 275 new cases in #AndhraPradesh\n",
            "#COVID19 #CoronaVirus \n",
            "\n",
            "POSTIVE || RT @ashoswai: In India, for six days in a row, daily new #COVID19 cases are 10,000+. Today, single day #COVID19 death in India crossed 2000…\n",
            "POSTIVE || RT @ANI: Delhi High Court dismisses a PIL seeking an order prohibiting the eviction of tenants on grounds of non-payment of rent till #COVI…\n",
            "NEGATIVE || RT @milinddeora: Yesterday’s mental health experts — who were #COVID19 experts the day before — are defence &amp; strategic affairs experts tod…\n",
            "POSTIVE || RT @botherder: 📢 NEW: In the last month @amnesty Security Lab analyzed many #COVID19 contact-tracing apps. We found apps from Kuwait, Bahra…\n",
            "POSTIVE || RT @caracal: Looking at the complete &amp; utter shitshow that is the UK after ten years of @Conservatives.\n",
            "\n",
            "Austerity.  #Brexit.  Racism.  Wor…\n",
            "NEGATIVE || RT @milinddeora: Yesterday’s mental health experts — who were #COVID19 experts the day before — are defence &amp; strategic affairs experts tod…\n",
            "Neutral || RT @GavinNewsom: Going to REPEAT, REPEAT, REPEAT: #COVID19 is still here.\n",
            "\n",
            "Wear a face covering. Wash your hands. Practice physical distanc…\n"
          ],
          "name": "stdout"
        }
      ]
    },
    {
      "cell_type": "code",
      "metadata": {
        "id": "s473mT4b7CHr",
        "colab_type": "code",
        "colab": {}
      },
      "source": [
        ""
      ],
      "execution_count": null,
      "outputs": []
    },
    {
      "cell_type": "code",
      "metadata": {
        "id": "KmTPBoThnpzM",
        "colab_type": "code",
        "colab": {}
      },
      "source": [
        ""
      ],
      "execution_count": null,
      "outputs": []
    }
  ]
}