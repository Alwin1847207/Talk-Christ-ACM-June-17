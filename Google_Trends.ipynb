{
  "nbformat": 4,
  "nbformat_minor": 0,
  "metadata": {
    "colab": {
      "name": "Google Trends.ipynb",
      "provenance": []
    },
    "kernelspec": {
      "name": "python3",
      "display_name": "Python 3"
    }
  },
  "cells": [
    {
      "cell_type": "code",
      "metadata": {
        "id": "_BHhuSLyTvYJ",
        "colab_type": "code",
        "colab": {}
      },
      "source": [
        "!pip install pytrends"
      ],
      "execution_count": null,
      "outputs": []
    },
    {
      "cell_type": "code",
      "metadata": {
        "id": "X6OcouvIXfjW",
        "colab_type": "code",
        "colab": {}
      },
      "source": [
        "from pytrends.request import TrendReq"
      ],
      "execution_count": 27,
      "outputs": []
    },
    {
      "cell_type": "code",
      "metadata": {
        "id": "e-TIDlrPXtWj",
        "colab_type": "code",
        "colab": {}
      },
      "source": [
        "pytrend = TrendReq(hl='en-US', tz=360)\n",
        "pytrend.build_payload(\n",
        "     kw_list=['Bahubali', 'KGF', '3idiots'],\n",
        "     cat=0,\n",
        "     timeframe='today 3-m',\n",
        "     geo='IN',\n",
        "     gprop='')\n",
        "data = pytrend.interest_over_time()"
      ],
      "execution_count": 34,
      "outputs": []
    },
    {
      "cell_type": "code",
      "metadata": {
        "id": "o-Tl7uxtXyuv",
        "colab_type": "code",
        "colab": {
          "base_uri": "https://localhost:8080/",
          "height": 235
        },
        "outputId": "414a2dbf-c570-4216-99e9-95ec8b5c87f4"
      },
      "source": [
        "data.head()"
      ],
      "execution_count": 35,
      "outputs": [
        {
          "output_type": "execute_result",
          "data": {
            "text/html": [
              "<div>\n",
              "<style scoped>\n",
              "    .dataframe tbody tr th:only-of-type {\n",
              "        vertical-align: middle;\n",
              "    }\n",
              "\n",
              "    .dataframe tbody tr th {\n",
              "        vertical-align: top;\n",
              "    }\n",
              "\n",
              "    .dataframe thead th {\n",
              "        text-align: right;\n",
              "    }\n",
              "</style>\n",
              "<table border=\"1\" class=\"dataframe\">\n",
              "  <thead>\n",
              "    <tr style=\"text-align: right;\">\n",
              "      <th></th>\n",
              "      <th>Bahubali</th>\n",
              "      <th>KGF</th>\n",
              "      <th>3idiots</th>\n",
              "      <th>isPartial</th>\n",
              "    </tr>\n",
              "    <tr>\n",
              "      <th>date</th>\n",
              "      <th></th>\n",
              "      <th></th>\n",
              "      <th></th>\n",
              "      <th></th>\n",
              "    </tr>\n",
              "  </thead>\n",
              "  <tbody>\n",
              "    <tr>\n",
              "      <th>2020-03-17</th>\n",
              "      <td>27</td>\n",
              "      <td>35</td>\n",
              "      <td>0</td>\n",
              "      <td>False</td>\n",
              "    </tr>\n",
              "    <tr>\n",
              "      <th>2020-03-18</th>\n",
              "      <td>28</td>\n",
              "      <td>34</td>\n",
              "      <td>0</td>\n",
              "      <td>False</td>\n",
              "    </tr>\n",
              "    <tr>\n",
              "      <th>2020-03-19</th>\n",
              "      <td>26</td>\n",
              "      <td>33</td>\n",
              "      <td>0</td>\n",
              "      <td>False</td>\n",
              "    </tr>\n",
              "    <tr>\n",
              "      <th>2020-03-20</th>\n",
              "      <td>25</td>\n",
              "      <td>29</td>\n",
              "      <td>0</td>\n",
              "      <td>False</td>\n",
              "    </tr>\n",
              "    <tr>\n",
              "      <th>2020-03-21</th>\n",
              "      <td>36</td>\n",
              "      <td>35</td>\n",
              "      <td>0</td>\n",
              "      <td>False</td>\n",
              "    </tr>\n",
              "  </tbody>\n",
              "</table>\n",
              "</div>"
            ],
            "text/plain": [
              "            Bahubali  KGF  3idiots  isPartial\n",
              "date                                         \n",
              "2020-03-17        27   35        0      False\n",
              "2020-03-18        28   34        0      False\n",
              "2020-03-19        26   33        0      False\n",
              "2020-03-20        25   29        0      False\n",
              "2020-03-21        36   35        0      False"
            ]
          },
          "metadata": {
            "tags": []
          },
          "execution_count": 35
        }
      ]
    },
    {
      "cell_type": "code",
      "metadata": {
        "id": "hO13NorjX1Uy",
        "colab_type": "code",
        "colab": {
          "base_uri": "https://localhost:8080/",
          "height": 330
        },
        "outputId": "7561737b-fca5-4e87-b08d-8dd22b8c9856"
      },
      "source": [
        "image = data.plot(title = 'Apple Iphone vs Android  in last 3 months')\n",
        "fig = image.get_figure()\n",
        "fig.savefig('figure.png')"
      ],
      "execution_count": 36,
      "outputs": [
        {
          "output_type": "display_data",
          "data": {
            "image/png": "[encoded data removed]",
            "text/plain": [
              "<Figure size 432x288 with 1 Axes>"
            ]
          },
          "metadata": {
            "tags": [],
            "needs_background": "light"
          }
        }
      ]
    },
    {
      "cell_type": "code",
      "metadata": {
        "id": "ZXcEGMp5X--h",
        "colab_type": "code",
        "colab": {
          "base_uri": "https://localhost:8080/",
          "height": 639
        },
        "outputId": "327adafb-e248-4be9-e9f1-26cfd9cfe133"
      },
      "source": [
        "df = pytrend.trending_searches(pn='india')\n",
        "df.head(100)\n"
      ],
      "execution_count": 42,
      "outputs": [
        {
          "output_type": "execute_result",
          "data": {
            "text/html": [
              "<div>\n",
              "<style scoped>\n",
              "    .dataframe tbody tr th:only-of-type {\n",
              "        vertical-align: middle;\n",
              "    }\n",
              "\n",
              "    .dataframe tbody tr th {\n",
              "        vertical-align: top;\n",
              "    }\n",
              "\n",
              "    .dataframe thead th {\n",
              "        text-align: right;\n",
              "    }\n",
              "</style>\n",
              "<table border=\"1\" class=\"dataframe\">\n",
              "  <thead>\n",
              "    <tr style=\"text-align: right;\">\n",
              "      <th></th>\n",
              "      <th>0</th>\n",
              "    </tr>\n",
              "  </thead>\n",
              "  <tbody>\n",
              "    <tr>\n",
              "      <th>0</th>\n",
              "      <td>Barcelona vs Leganes</td>\n",
              "    </tr>\n",
              "    <tr>\n",
              "      <th>1</th>\n",
              "      <td>Father's Day date 2020</td>\n",
              "    </tr>\n",
              "    <tr>\n",
              "      <th>2</th>\n",
              "      <td>Bundesliga</td>\n",
              "    </tr>\n",
              "    <tr>\n",
              "      <th>3</th>\n",
              "      <td>TSBIE</td>\n",
              "    </tr>\n",
              "    <tr>\n",
              "      <th>4</th>\n",
              "      <td>Amish Devgan</td>\n",
              "    </tr>\n",
              "    <tr>\n",
              "      <th>5</th>\n",
              "      <td>Boycott China</td>\n",
              "    </tr>\n",
              "    <tr>\n",
              "      <th>6</th>\n",
              "      <td>Santosh Babu</td>\n",
              "    </tr>\n",
              "    <tr>\n",
              "      <th>7</th>\n",
              "      <td>Colonel Santosh Babu</td>\n",
              "    </tr>\n",
              "    <tr>\n",
              "      <th>8</th>\n",
              "      <td>Xi Jinping</td>\n",
              "    </tr>\n",
              "    <tr>\n",
              "      <th>9</th>\n",
              "      <td>Sushant Singh Rajput last tweet</td>\n",
              "    </tr>\n",
              "    <tr>\n",
              "      <th>10</th>\n",
              "      <td>Washington Post</td>\n",
              "    </tr>\n",
              "    <tr>\n",
              "      <th>11</th>\n",
              "      <td>Father's Day in 2020</td>\n",
              "    </tr>\n",
              "    <tr>\n",
              "      <th>12</th>\n",
              "      <td>Karan Johar</td>\n",
              "    </tr>\n",
              "    <tr>\n",
              "      <th>13</th>\n",
              "      <td>Dexamethasone</td>\n",
              "    </tr>\n",
              "    <tr>\n",
              "      <th>14</th>\n",
              "      <td>Abhinav Kashyap</td>\n",
              "    </tr>\n",
              "    <tr>\n",
              "      <th>15</th>\n",
              "      <td>Father's Day date</td>\n",
              "    </tr>\n",
              "    <tr>\n",
              "      <th>16</th>\n",
              "      <td>Motorola One Fusion Plus</td>\n",
              "    </tr>\n",
              "    <tr>\n",
              "      <th>17</th>\n",
              "      <td>Anurag Kashyap</td>\n",
              "    </tr>\n",
              "    <tr>\n",
              "      <th>18</th>\n",
              "      <td>Vicky Kaushal</td>\n",
              "    </tr>\n",
              "    <tr>\n",
              "      <th>19</th>\n",
              "      <td>Dexamethasone tablets</td>\n",
              "    </tr>\n",
              "  </tbody>\n",
              "</table>\n",
              "</div>"
            ],
            "text/plain": [
              "                                  0\n",
              "0              Barcelona vs Leganes\n",
              "1            Father's Day date 2020\n",
              "2                        Bundesliga\n",
              "3                             TSBIE\n",
              "4                      Amish Devgan\n",
              "5                     Boycott China\n",
              "6                      Santosh Babu\n",
              "7              Colonel Santosh Babu\n",
              "8                        Xi Jinping\n",
              "9   Sushant Singh Rajput last tweet\n",
              "10                  Washington Post\n",
              "11             Father's Day in 2020\n",
              "12                      Karan Johar\n",
              "13                    Dexamethasone\n",
              "14                  Abhinav Kashyap\n",
              "15                Father's Day date\n",
              "16         Motorola One Fusion Plus\n",
              "17                   Anurag Kashyap\n",
              "18                    Vicky Kaushal\n",
              "19            Dexamethasone tablets"
            ]
          },
          "metadata": {
            "tags": []
          },
          "execution_count": 42
        }
      ]
    },
    {
      "cell_type": "code",
      "metadata": {
        "id": "w0uHZDJ2ZM57",
        "colab_type": "code",
        "colab": {
          "base_uri": "https://localhost:8080/",
          "height": 195
        },
        "outputId": "06f8a733-2c9d-45f5-e1db-459f67c02f52"
      },
      "source": [
        "# Get Google Top Charts\n",
        "df = pytrend.top_charts(2019, hl='en-US', tz=300, geo='GLOBAL')\n",
        "df.head()"
      ],
      "execution_count": 43,
      "outputs": [
        {
          "output_type": "execute_result",
          "data": {
            "text/html": [
              "<div>\n",
              "<style scoped>\n",
              "    .dataframe tbody tr th:only-of-type {\n",
              "        vertical-align: middle;\n",
              "    }\n",
              "\n",
              "    .dataframe tbody tr th {\n",
              "        vertical-align: top;\n",
              "    }\n",
              "\n",
              "    .dataframe thead th {\n",
              "        text-align: right;\n",
              "    }\n",
              "</style>\n",
              "<table border=\"1\" class=\"dataframe\">\n",
              "  <thead>\n",
              "    <tr style=\"text-align: right;\">\n",
              "      <th></th>\n",
              "      <th>title</th>\n",
              "      <th>exploreQuery</th>\n",
              "    </tr>\n",
              "  </thead>\n",
              "  <tbody>\n",
              "    <tr>\n",
              "      <th>0</th>\n",
              "      <td>India vs South Africa</td>\n",
              "      <td></td>\n",
              "    </tr>\n",
              "    <tr>\n",
              "      <th>1</th>\n",
              "      <td>Cameron Boyce</td>\n",
              "      <td></td>\n",
              "    </tr>\n",
              "    <tr>\n",
              "      <th>2</th>\n",
              "      <td>Copa America</td>\n",
              "      <td></td>\n",
              "    </tr>\n",
              "    <tr>\n",
              "      <th>3</th>\n",
              "      <td>Bangladesh vs India</td>\n",
              "      <td></td>\n",
              "    </tr>\n",
              "    <tr>\n",
              "      <th>4</th>\n",
              "      <td>iPhone 11</td>\n",
              "      <td></td>\n",
              "    </tr>\n",
              "  </tbody>\n",
              "</table>\n",
              "</div>"
            ],
            "text/plain": [
              "                   title exploreQuery\n",
              "0  India vs South Africa             \n",
              "1          Cameron Boyce             \n",
              "2           Copa America             \n",
              "3    Bangladesh vs India             \n",
              "4              iPhone 11             "
            ]
          },
          "metadata": {
            "tags": []
          },
          "execution_count": 43
        }
      ]
    },
    {
      "cell_type": "code",
      "metadata": {
        "id": "Qt7l_DaHZn05",
        "colab_type": "code",
        "colab": {}
      },
      "source": [
        ""
      ],
      "execution_count": null,
      "outputs": []
    },
    {
      "cell_type": "code",
      "metadata": {
        "id": "Ygv1w4x5ZxI7",
        "colab_type": "code",
        "colab": {}
      },
      "source": [
        "pytrend.build_payload(kw_list=['How do i'])"
      ],
      "execution_count": null,
      "outputs": []
    },
    {
      "cell_type": "code",
      "metadata": {
        "id": "AfKoN_fDZyKB",
        "colab_type": "code",
        "colab": {
          "base_uri": "https://localhost:8080/",
          "height": 782
        },
        "outputId": "2567eafe-deac-47b3-ea84-24de54d23cbf"
      },
      "source": [
        "# Related Queries, returns a dictionary of dataframes\n",
        "related_queries = pytrend.related_queries()\n",
        "related_queries.values()"
      ],
      "execution_count": null,
      "outputs": [
        {
          "output_type": "execute_result",
          "data": {
            "text/plain": [
              "dict_values([{'top':                                    query  value\n",
              "0                                 how to    100\n",
              "1                          how do i know     19\n",
              "2                       what should i do      8\n",
              "3                            how are you      4\n",
              "4                          how do i look      2\n",
              "5         how do you do meaning in hindi      1\n",
              "6                      how do i tell you      1\n",
              "7                     how do i look like      1\n",
              "8             how much protein do i need      0\n",
              "9      how do i delete instagram account      0\n",
              "10  how do i delete my instagram account      0\n",
              "11                          hello google      0\n",
              "12         how much tax do i have to pay      0\n",
              "13                     what is your name      0\n",
              "14                             hi google      0\n",
              "15       how to delete instagram account      0\n",
              "16        how do i look meaning in hindi      0\n",
              "17                 hi google how are you      0\n",
              "18       how do i connect my phone to tv      0\n",
              "19       how do i root my xiaomi 2014818      0\n",
              "20           how do i know my jio number      0\n",
              "21                      how to use paytm      0\n",
              "22     how do i root my samsung sm-j500f      0\n",
              "23                how do i get to heaven      0, 'rising':                                    query  value\n",
              "0   how do i delete my instagram account  14950\n",
              "1         how do i look meaning in hindi   6000\n",
              "2        how do i root my xiaomi 2014818   3900\n",
              "3            how do i know my jio number   3750\n",
              "4                       how to use paytm   2400\n",
              "5      how do i root my samsung sm-j500f   1150\n",
              "6         how do you do meaning in hindi   1050\n",
              "7                           hello google    900\n",
              "8        how to delete instagram account    800\n",
              "9                 how do i get to heaven    700\n",
              "10     how do i delete instagram account    500\n",
              "11            how much protein do i need    350\n",
              "12                     what is your name    350\n",
              "13                             hi google    250\n",
              "14         how much tax do i have to pay    200\n",
              "15                 hi google how are you    200\n",
              "16       how do i connect my phone to tv    150\n",
              "17                     how do i tell you    150\n",
              "18                           how are you     80\n",
              "19                    how do i look like     50}])"
            ]
          },
          "metadata": {
            "tags": []
          },
          "execution_count": 11
        }
      ]
    },
    {
      "cell_type": "code",
      "metadata": {
        "id": "IbiuINmjaZi0",
        "colab_type": "code",
        "colab": {
          "base_uri": "https://localhost:8080/",
          "height": 34
        },
        "outputId": "658e8c9c-531f-4376-a931-01cd746d5eea"
      },
      "source": [
        "pytrends.related_topics()"
      ],
      "execution_count": null,
      "outputs": [
        {
          "output_type": "execute_result",
          "data": {
            "text/plain": [
              "{}"
            ]
          },
          "metadata": {
            "tags": []
          },
          "execution_count": 12
        }
      ]
    },
    {
      "cell_type": "code",
      "metadata": {
        "id": "XlxkNJwZbAVV",
        "colab_type": "code",
        "colab": {
          "base_uri": "https://localhost:8080/",
          "height": 187
        },
        "outputId": "22ca9f09-94c4-4244-8242-1b80a2424ebf"
      },
      "source": [
        "pytrend.today_searches(pn='IN')"
      ],
      "execution_count": null,
      "outputs": [
        {
          "output_type": "execute_result",
          "data": {
            "text/plain": [
              "0                 Barcelona vs Leganes\n",
              "1                           Bundesliga\n",
              "2                         Amish Devgan\n",
              "3                                TSBIE\n",
              "4                         Santosh Babu\n",
              "5                          China Daily\n",
              "6    Bie.telangana.gov.in 2020 results\n",
              "7                 Colonel Santosh Babu\n",
              "8      Sushant Singh Rajput last tweet\n",
              "Name: query, dtype: object"
            ]
          },
          "metadata": {
            "tags": []
          },
          "execution_count": 26
        }
      ]
    },
    {
      "cell_type": "code",
      "metadata": {
        "id": "f_XnLq53_nRZ",
        "colab_type": "code",
        "colab": {}
      },
      "source": [
        ""
      ],
      "execution_count": null,
      "outputs": []
    }
  ]
}